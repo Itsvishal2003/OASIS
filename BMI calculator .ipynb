{
 "cells": [
  {
   "cell_type": "code",
   "execution_count": 1,
   "id": "3457a7fd",
   "metadata": {},
   "outputs": [
    {
     "name": "stdout",
     "output_type": "stream",
     "text": [
      "Enter your name:Vishal\n",
      "Enter your weight in kg:82\n",
      "Enter your height in meters:179\n",
      "25.592209980961893\n",
      "Vishal is overweight\n"
     ]
    }
   ],
   "source": [
    "name = input(\"Enter your name:\")\n",
    "weight = float(input(\"Enter your weight in kg:\"))\n",
    "height = float(input(\"Enter your height in meters:\"))\n",
    "height_meters = height/100\n",
    "BMI = weight/(height_meters**2)\n",
    "print(BMI)\n",
    "\n",
    "if(BMI<16):\n",
    "    print(name,\"severly underweight\"),BMI\n",
    "elif(BMI>=16 and BMI<18.5):\n",
    "    print(name,\"is underweight\"),BMI\n",
    "elif(BMI>=18.5 and BMI<24):\n",
    "    print(name,\"Healthy\"),BMI\n",
    "elif(BMI>+25 and BMI<30):\n",
    "    print(name,\"is overweight\"),BMI\n",
    "elif(BMI>=30):\n",
    "    print(name,\"is obese\"),BMI"
   ]
  },
  {
   "cell_type": "code",
   "execution_count": null,
   "id": "331a6c48",
   "metadata": {},
   "outputs": [],
   "source": []
  }
 ],
 "metadata": {
  "kernelspec": {
   "display_name": "Python 3 (ipykernel)",
   "language": "python",
   "name": "python3"
  },
  "language_info": {
   "codemirror_mode": {
    "name": "ipython",
    "version": 3
   },
   "file_extension": ".py",
   "mimetype": "text/x-python",
   "name": "python",
   "nbconvert_exporter": "python",
   "pygments_lexer": "ipython3",
   "version": "3.11.5"
  }
 },
 "nbformat": 4,
 "nbformat_minor": 5
}
